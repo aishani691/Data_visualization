{
  "nbformat": 4,
  "nbformat_minor": 0,
  "metadata": {
    "colab": {
      "provenance": []
    },
    "kernelspec": {
      "name": "python3",
      "display_name": "Python 3"
    },
    "language_info": {
      "name": "python"
    }
  },
  "cells": [
    {
      "cell_type": "markdown",
      "source": [
        "References:\n",
        "- https://github.com/ptyadana/SQL-Data-Analysis-and-Visualization-Projects"
      ],
      "metadata": {
        "id": "vs5ilyv3ydN6"
      }
    },
    {
      "cell_type": "markdown",
      "source": [
        "# RANK, DENSE_RANK, PARTITION BY\n"
      ],
      "metadata": {
        "id": "gybzgLwE8xYn"
      }
    },
    {
      "cell_type": "markdown",
      "source": [
        "![image.png](data:image/png;base64,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)\n",
        "\n",
        "![image.png](data:image/png;base64,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)"
      ],
      "metadata": {
        "id": "BfqD57KmOnOJ"
      }
    },
    {
      "cell_type": "markdown",
      "source": [
        "Select the oldest customer from the customer's table with schema :\n",
        "(Schema source : https://www.programiz.com/sql/online-compiler/)\n",
        "\n",
        "- DENSE_RANK vs RANK : If two entries have the same current rank, RANK assigns the next entry 2 + the current rank, while DENSE_RANK assigns rank 1 + the current rank\n",
        "\n",
        "- \n",
        "\n",
        "\n",
        "Ref: # https://towardsdatascience.com/how-to-use-sql-rank-and-dense-rank-functions-7c3ebf84b4e8#:~:text=RANK%20and%20DENSE_RANK%20are%20used,the%20last%20received%20a%2072."
      ],
      "metadata": {
        "id": "2DVUnD4S8d8Z"
      }
    },
    {
      "cell_type": "code",
      "execution_count": null,
      "metadata": {
        "id": "XaGRInP7yXI8"
      },
      "outputs": [],
      "source": [
        "# https://towardsdatascience.com/how-to-use-sql-rank-and-dense-rank-functions-7c3ebf84b4e8#:~:text=RANK%20and%20DENSE_RANK%20are%20used,the%20last%20received%20a%2072.\n",
        "\n",
        "SELECT * FROM\n",
        "(SELECT Customers.first_name AS name, RANK() OVER(ORDER BY Customers.age ASC) AS age_ranking FROM Customers)\n",
        "LIMIT 2"
      ]
    },
    {
      "cell_type": "code",
      "source": [
        "-- Select the customer and order amount id desc order with order amount between the least and the half of the maximum order amount from the customer's table \n",
        "\n",
        "# Get the customer name and order amounts corresponding to those order ids\n",
        "SELECT Customers.first_name, Customers.last_name, Orders.amount FROM Customers\n",
        "INNER JOIN Orders ON Orders.customer_id = Customers.customer_id\n",
        "WHERE Orders.order_id IN\n",
        "(\n",
        "  SELECT order_id_select FROM\n",
        "  (\n",
        "    # Get order ids which are ranked at the top 50 percent according to the order amounts\n",
        "    SELECT Orders.order_id AS order_id_select, RANK() OVER(ORDER BY amount DESC) AS amount_ranking\n",
        "    FROM Orders\n",
        "    LIMIT \n",
        "      (\n",
        "      SELECT COUNT(*)/2 + 1 FROM ORDERS\n",
        "      )\n",
        "  )\n",
        ")\n",
        "ORDER BY Orders.amount DESC;"
      ],
      "metadata": {
        "id": "oahrWkQsbAvF"
      },
      "execution_count": null,
      "outputs": []
    },
    {
      "cell_type": "markdown",
      "source": [
        "Notes:\n",
        "- Why cant we use window funtions inside WHERE clause ?\n",
        "https://learnsql.com/blog/window-functions-not-allowed-in-where/"
      ],
      "metadata": {
        "id": "JADf82EaXw9B"
      }
    },
    {
      "cell_type": "markdown",
      "source": [
        "# ROW_NUMBER()"
      ],
      "metadata": {
        "id": "L0GpHSIMxMgS"
      }
    },
    {
      "cell_type": "markdown",
      "source": [
        "# BETWEEN\n"
      ],
      "metadata": {
        "id": "kCifdZ6iIiJK"
      }
    },
    {
      "cell_type": "markdown",
      "source": [
        "Select the customer with order amount between the least and the half of the maximum order amount from the customer's table with schema :"
      ],
      "metadata": {
        "id": "wj0YdUg5IiJL"
      }
    },
    {
      "cell_type": "code",
      "execution_count": null,
      "metadata": {
        "id": "algVcQFRIiJM"
      },
      "outputs": [],
      "source": [
        "SELECT Customer.customer_id"
      ]
    },
    {
      "cell_type": "markdown",
      "source": [
        "- GROUP BY\n",
        "- WHERE, HAVING\n",
        "- \n",
        "- ORDER BY\n",
        "- LIMIT"
      ],
      "metadata": {
        "id": "uFkOmhbZxPr4"
      }
    }
  ]
}